{
 "cells": [
  {
   "cell_type": "markdown",
   "metadata": {},
   "source": [
    "# ANÁLISIS DE LA SOBRE-EXTENSIÓN AL ALZA DEL MERCADO ACCIONARIO NORTEAMERICANO\n",
    "\n",
    "Me puse a tratar de refutar con los datos la afirmación de la sobreextensión y si bien no estaba errado (venía al 26% aprox el precio sobre la MM 30 meses), con el último sacudón se acercó al promedio y anda en 16% aprox. Usé la MM de 30 meses como una referencia. Me bajé los datos de los últimos 30 años del SPX en compresión mensual, me quedé sólo con los valores positivos (sólo me interesa observar el comportamiento del mercado alcista en este caso), le calculé la MM de 30 meses y la diferencia del precio sobre ese indicador (en % variación/posición sobre). "
   ]
  },
  {
   "cell_type": "code",
   "execution_count": 59,
   "metadata": {},
   "outputs": [],
   "source": [
    "import yfinance as yf\n",
    "import pandas as pd\n",
    "from pandas_datareader import data as pdr\n",
    "#import datetime as datetime\n",
    "import numpy as np\n",
    "from datetime import datetime, timedelta\n",
    "import time\n",
    "import json\n",
    "from ta.trend import EMAIndicator\n",
    "import seaborn as sns\n",
    "import matplotlib.pyplot as plt\n",
    "\n",
    "yf.pdr_override()\n",
    "\n",
    "desde = (datetime.now() - timedelta(days = 548)).strftime(\"%Y-%m-%d\")\n",
    "hasta = datetime.now().strftime(\"%Y-%m-%d\")\n",
    "\n",
    "\n",
    "data = yf.Ticker('^GSPC').history(period=\"30y\",interval=\"1mo\")\n",
    "data['EMA: 30'] = EMAIndicator(data['Close'], 30, False).ema_indicator()\n",
    "\n",
    "data['Sobre_ext'] = (data['Close'] - data['EMA: 30'])/(data['EMA: 30'])\n",
    "\n",
    "#data['Sobre_ext'].sort_values(ascending=False).head(20)\n"
   ]
  },
  {
   "cell_type": "markdown",
   "metadata": {},
   "source": [
    "## Primero hice un histograma para ver cómo se distribuyen los valores:\n",
    "\n",
    "Se ve que la mayor concentración de valores, o lo más probable, oscila entre 7% y 15%, aproximadamente. Más a la derecha está el +25% con mucha menor frecuencia / \"rareza\", que es como estábamos hasta hace poco\n"
   ]
  },
  {
   "cell_type": "code",
   "execution_count": 62,
   "metadata": {},
   "outputs": [
    {
     "data": {
      "text/plain": [
       "(array([19., 38., 55., 53., 34., 31., 14., 19.,  6.,  2.]),\n",
       " array([2.99133101e-04, 3.81460421e-02, 7.59929511e-02, 1.13839860e-01,\n",
       "        1.51686769e-01, 1.89533678e-01, 2.27380587e-01, 2.65227496e-01,\n",
       "        3.03074405e-01, 3.40921314e-01, 3.78768223e-01]),\n",
       " <BarContainer object of 10 artists>)"
      ]
     },
     "execution_count": 62,
     "metadata": {},
     "output_type": "execute_result"
    },
    {
     "data": {
      "image/png": "[encoded data removed]",
      "text/plain": [
       "<Figure size 432x288 with 1 Axes>"
      ]
     },
     "metadata": {
      "needs_background": "light"
     },
     "output_type": "display_data"
    }
   ],
   "source": [
    "# VISUALIZAMOS LA DISTRIBUCIÓN DE %s DE SOBREEXTENSIÓN (SÓLO VALORES POSITIVOS / EXTENSIÓN AL ALZA)\n",
    "fig = plt.figure ()\n",
    "ax = plt.axes()\n",
    "ax.hist(data[data['Sobre_ext'] > 0]['Sobre_ext'])"
   ]
  },
  {
   "cell_type": "markdown",
   "metadata": {},
   "source": [
    "Análisis del histograma (en números): La primera columna es el rango, la segunda la cantidad de meses en que el mercado se movió en ese rango de alza sobre la MM de 30 meses, la tercera es el % de esa cantidad sobre el total (frecuencia relativa) y la última es la frecuencia acumulada. Ahí se ve más claro que entre 5 y 15% se llevan el 50% del comportamiento. O bien que el 88% de las veces se movió por debajo del 25% de sobre extensión. Más allá de eso ya se torna bastante raro/riesgoso"
   ]
  },
  {
   "cell_type": "code",
   "execution_count": 64,
   "metadata": {},
   "outputs": [
    {
     "data": {
      "text/html": [
       "<div>\n",
       "<style scoped>\n",
       "    .dataframe tbody tr th:only-of-type {\n",
       "        vertical-align: middle;\n",
       "    }\n",
       "\n",
       "    .dataframe tbody tr th {\n",
       "        vertical-align: top;\n",
       "    }\n",
       "\n",
       "    .dataframe thead th {\n",
       "        text-align: right;\n",
       "    }\n",
       "</style>\n",
       "<table border=\"1\" class=\"dataframe\">\n",
       "  <thead>\n",
       "    <tr style=\"text-align: right;\">\n",
       "      <th></th>\n",
       "      <th>Sobre_ext</th>\n",
       "      <th>% s/ Total</th>\n",
       "      <th>% acumulado</th>\n",
       "    </tr>\n",
       "    <tr>\n",
       "      <th>rango</th>\n",
       "      <th></th>\n",
       "      <th></th>\n",
       "      <th></th>\n",
       "    </tr>\n",
       "  </thead>\n",
       "  <tbody>\n",
       "    <tr>\n",
       "      <th>(0.0, 0.05]</th>\n",
       "      <td>28</td>\n",
       "      <td>0.103321</td>\n",
       "      <td>0.103321</td>\n",
       "    </tr>\n",
       "    <tr>\n",
       "      <th>(0.05, 0.1]</th>\n",
       "      <td>70</td>\n",
       "      <td>0.258303</td>\n",
       "      <td>0.361624</td>\n",
       "    </tr>\n",
       "    <tr>\n",
       "      <th>(0.1, 0.15]</th>\n",
       "      <td>65</td>\n",
       "      <td>0.239852</td>\n",
       "      <td>0.601476</td>\n",
       "    </tr>\n",
       "    <tr>\n",
       "      <th>(0.15, 0.2]</th>\n",
       "      <td>46</td>\n",
       "      <td>0.169742</td>\n",
       "      <td>0.771218</td>\n",
       "    </tr>\n",
       "    <tr>\n",
       "      <th>(0.2, 0.25]</th>\n",
       "      <td>30</td>\n",
       "      <td>0.110701</td>\n",
       "      <td>0.881919</td>\n",
       "    </tr>\n",
       "    <tr>\n",
       "      <th>(0.25, 0.3]</th>\n",
       "      <td>23</td>\n",
       "      <td>0.084871</td>\n",
       "      <td>0.966790</td>\n",
       "    </tr>\n",
       "    <tr>\n",
       "      <th>(0.3, 0.35]</th>\n",
       "      <td>7</td>\n",
       "      <td>0.025830</td>\n",
       "      <td>0.992620</td>\n",
       "    </tr>\n",
       "    <tr>\n",
       "      <th>(0.35, 0.4]</th>\n",
       "      <td>2</td>\n",
       "      <td>0.007380</td>\n",
       "      <td>1.000000</td>\n",
       "    </tr>\n",
       "  </tbody>\n",
       "</table>\n",
       "</div>"
      ],
      "text/plain": [
       "             Sobre_ext  % s/ Total  % acumulado\n",
       "rango                                          \n",
       "(0.0, 0.05]         28    0.103321     0.103321\n",
       "(0.05, 0.1]         70    0.258303     0.361624\n",
       "(0.1, 0.15]         65    0.239852     0.601476\n",
       "(0.15, 0.2]         46    0.169742     0.771218\n",
       "(0.2, 0.25]         30    0.110701     0.881919\n",
       "(0.25, 0.3]         23    0.084871     0.966790\n",
       "(0.3, 0.35]          7    0.025830     0.992620\n",
       "(0.35, 0.4]          2    0.007380     1.000000"
      ]
     },
     "execution_count": 64,
     "metadata": {},
     "output_type": "execute_result"
    }
   ],
   "source": [
    "histo = data_bull[['rango', 'Sobre_ext']].groupby('rango').count()\n",
    "histo['% s/ Total'] = histo['Sobre_ext'] / (histo['Sobre_ext'].sum())\n",
    "histo['% acumulado'] = histo['% s/ Total'].cumsum()\n",
    "histo"
   ]
  },
  {
   "cell_type": "code",
   "execution_count": 42,
   "metadata": {},
   "outputs": [
    {
     "name": "stdout",
     "output_type": "stream",
     "text": [
      "Promedio  0.14158798813374077 Desvío std  0.1294545945864892\n"
     ]
    }
   ],
   "source": [
    "promedio = data[data['Sobre_ext'] > 0]['Sobre_ext'].mean()\n",
    "std = data['Sobre_ext'].std()\n",
    "print('Promedio ', promedio, 'Desvío std ', std)"
   ]
  },
  {
   "cell_type": "markdown",
   "metadata": {},
   "source": [
    "Para ver más clara la situación actual vs. los máximos, mínimos y promedios (siempre hablando de posiciones positivas del Precio sobre la MM de 30 meses), ploteé el siguiente esquema:"
   ]
  },
  {
   "cell_type": "code",
   "execution_count": 45,
   "metadata": {},
   "outputs": [
    {
     "data": {
      "text/plain": [
       "<matplotlib.legend.Legend at 0x1b6ecef2ac0>"
      ]
     },
     "execution_count": 45,
     "metadata": {},
     "output_type": "execute_result"
    },
    {
     "data": {
      "image/png": "[encoded data removed]",
      "text/plain": [
       "<Figure size 1080x432 with 1 Axes>"
      ]
     },
     "metadata": {
      "needs_background": "light"
     },
     "output_type": "display_data"
    }
   ],
   "source": [
    "# PLOTEAMOS LA EXTENSIÓN COMO LÍNEA/OSCILADOR\n",
    "fig = plt.figure (figsize=(15,6))\n",
    "ax2 = plt.axes()\n",
    "ax2.plot(data[data['Sobre_ext'] > 0]['Sobre_ext'], label='% Precio sobre MM30mo')\n",
    "plt.hlines(y=promedio, xmin=data.index[0], xmax=data.index[-1], color='black', label='Promedio')\n",
    "plt.hlines(y=data['Sobre_ext'].max(), xmin=data.index[0], xmax=data.index[-1], color='Red', label='Máximo histórico')\n",
    "plt.hlines(y=data[data['Sobre_ext'] > 0]['Sobre_ext'].min(), xmin=data.index[0], xmax=data.index[-1], color='Green', label='Mínimo histórico')\n",
    "plt.hlines(y=data[data['Sobre_ext'] > 0]['Sobre_ext'][-1], xmin=data.index[0], xmax=data.index[-1], color='Yellow', label='Actual')\n",
    "plt.legend(loc=9)"
   ]
  },
  {
   "cell_type": "markdown",
   "metadata": {},
   "source": [
    "Ahí vemos que al 16% aprox estamos un poco por encima del promedio histórico nomás, bastante lejos de la situación del 1997-2000. Le puse las referencias para mayor claridad.\n",
    "\n",
    "También ahí se ve que cuando nos movíamos en el 26% estábamos mucho más cerca de esa situación crítica y entonces cada vez que decíamos \"se observa sobre-extensión del precio, una toma de ganancias es saludable para la tendencia, etc, etc\" estábamos en lo cierto. Lo que antes era tocar de oído ahora está probado con datos"
   ]
  },
  {
   "cell_type": "code",
   "execution_count": 47,
   "metadata": {},
   "outputs": [
    {
     "name": "stderr",
     "output_type": "stream",
     "text": [
      "<ipython-input-47-70e36c684477>:4: SettingWithCopyWarning: \n",
      "A value is trying to be set on a copy of a slice from a DataFrame.\n",
      "Try using .loc[row_indexer,col_indexer] = value instead\n",
      "\n",
      "See the caveats in the documentation: https://pandas.pydata.org/pandas-docs/stable/user_guide/indexing.html#returning-a-view-versus-a-copy\n",
      "  data_bull['rango'] = pd.cut(data_bull['Sobre_ext'], bins = bins)\n"
     ]
    }
   ],
   "source": [
    "data_bull = data[data['Sobre_ext'] > 0]\n",
    "bins=[0, 0.05, 0.10, 0.15, 0.20, 0.25, 0.30, 0.35, 0.40]\n",
    "\n",
    "data_bull['rango'] = pd.cut(data_bull['Sobre_ext'], bins = bins)"
   ]
  },
  {
   "cell_type": "code",
   "execution_count": 54,
   "metadata": {},
   "outputs": [
    {
     "data": {
      "text/html": [
       "<div>\n",
       "<style scoped>\n",
       "    .dataframe tbody tr th:only-of-type {\n",
       "        vertical-align: middle;\n",
       "    }\n",
       "\n",
       "    .dataframe tbody tr th {\n",
       "        vertical-align: top;\n",
       "    }\n",
       "\n",
       "    .dataframe thead th {\n",
       "        text-align: right;\n",
       "    }\n",
       "</style>\n",
       "<table border=\"1\" class=\"dataframe\">\n",
       "  <thead>\n",
       "    <tr style=\"text-align: right;\">\n",
       "      <th></th>\n",
       "      <th>Sobre_ext</th>\n",
       "      <th>% s/ Total</th>\n",
       "      <th>% acumulado</th>\n",
       "    </tr>\n",
       "    <tr>\n",
       "      <th>rango</th>\n",
       "      <th></th>\n",
       "      <th></th>\n",
       "      <th></th>\n",
       "    </tr>\n",
       "  </thead>\n",
       "  <tbody>\n",
       "    <tr>\n",
       "      <th>(0.0, 0.05]</th>\n",
       "      <td>28</td>\n",
       "      <td>0.103321</td>\n",
       "      <td>0.103321</td>\n",
       "    </tr>\n",
       "    <tr>\n",
       "      <th>(0.05, 0.1]</th>\n",
       "      <td>70</td>\n",
       "      <td>0.258303</td>\n",
       "      <td>0.361624</td>\n",
       "    </tr>\n",
       "    <tr>\n",
       "      <th>(0.1, 0.15]</th>\n",
       "      <td>65</td>\n",
       "      <td>0.239852</td>\n",
       "      <td>0.601476</td>\n",
       "    </tr>\n",
       "    <tr>\n",
       "      <th>(0.15, 0.2]</th>\n",
       "      <td>46</td>\n",
       "      <td>0.169742</td>\n",
       "      <td>0.771218</td>\n",
       "    </tr>\n",
       "    <tr>\n",
       "      <th>(0.2, 0.25]</th>\n",
       "      <td>30</td>\n",
       "      <td>0.110701</td>\n",
       "      <td>0.881919</td>\n",
       "    </tr>\n",
       "    <tr>\n",
       "      <th>(0.25, 0.3]</th>\n",
       "      <td>23</td>\n",
       "      <td>0.084871</td>\n",
       "      <td>0.966790</td>\n",
       "    </tr>\n",
       "    <tr>\n",
       "      <th>(0.3, 0.35]</th>\n",
       "      <td>7</td>\n",
       "      <td>0.025830</td>\n",
       "      <td>0.992620</td>\n",
       "    </tr>\n",
       "    <tr>\n",
       "      <th>(0.35, 0.4]</th>\n",
       "      <td>2</td>\n",
       "      <td>0.007380</td>\n",
       "      <td>1.000000</td>\n",
       "    </tr>\n",
       "  </tbody>\n",
       "</table>\n",
       "</div>"
      ],
      "text/plain": [
       "             Sobre_ext  % s/ Total  % acumulado\n",
       "rango                                          \n",
       "(0.0, 0.05]         28    0.103321     0.103321\n",
       "(0.05, 0.1]         70    0.258303     0.361624\n",
       "(0.1, 0.15]         65    0.239852     0.601476\n",
       "(0.15, 0.2]         46    0.169742     0.771218\n",
       "(0.2, 0.25]         30    0.110701     0.881919\n",
       "(0.25, 0.3]         23    0.084871     0.966790\n",
       "(0.3, 0.35]          7    0.025830     0.992620\n",
       "(0.35, 0.4]          2    0.007380     1.000000"
      ]
     },
     "execution_count": 54,
     "metadata": {},
     "output_type": "execute_result"
    }
   ],
   "source": [
    "histo = data_bull[['rango', 'Sobre_ext']].groupby('rango').count()\n",
    "histo['% s/ Total'] = histo['Sobre_ext'] / (histo['Sobre_ext'].sum())\n",
    "histo['% acumulado'] = histo['% s/ Total'].cumsum()\n",
    "histo"
   ]
  },
  {
   "cell_type": "markdown",
   "metadata": {},
   "source": [
    "El máximo se dio el 01/07/97, con un alza del 38%. Desde ahí corrigió un poco (nada brusco) y siguió subiendo hasta la burbuja .com en el 2000. Igual el MACD mensual no daba signos bajistas, venía prolijo por el 97'. Hay una vela fiera de agosto del '98 que me parece fue un hecho aislado, la crisis del petróleo?"
   ]
  },
  {
   "cell_type": "code",
   "execution_count": 66,
   "metadata": {},
   "outputs": [
    {
     "name": "stdout",
     "output_type": "stream",
     "text": [
      "Fecha del máximo histórico:  1997-07-01 00:00:00\n",
      "Máximo histórico:  0.3787682228725337\n"
     ]
    }
   ],
   "source": [
    "print(\"Fecha del máximo histórico: \", data_bull['Sobre_ext'].idxmax())\n",
    "print(\"Máximo histórico: \", data_bull['Sobre_ext'].max())"
   ]
  },
  {
   "cell_type": "code",
   "execution_count": null,
   "metadata": {},
   "outputs": [],
   "source": []
  }
 ],
 "metadata": {
  "kernelspec": {
   "display_name": "Python 3",
   "language": "python",
   "name": "python3"
  },
  "language_info": {
   "codemirror_mode": {
    "name": "ipython",
    "version": 3
   },
   "file_extension": ".py",
   "mimetype": "text/x-python",
   "name": "python",
   "nbconvert_exporter": "python",
   "pygments_lexer": "ipython3",
   "version": "3.8.5"
  }
 },
 "nbformat": 4,
 "nbformat_minor": 4
}
